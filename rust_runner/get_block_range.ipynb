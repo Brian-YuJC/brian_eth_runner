{
 "cells": [
  {
   "cell_type": "code",
   "execution_count": null,
   "metadata": {},
   "outputs": [],
   "source": [
    "from web3 import Web3\n",
    "import random\n",
    "import csv\n",
    "\n",
    "write_file = \"../block_range.csv\"\n",
    "\n",
    "w3_group = [Web3(Web3.HTTPProvider('https://mainnet.infura.io/v3/fa120e3911014ea5bb7373c0211dfe2f')), Web3(Web3.HTTPProvider('https://mainnet.infura.io/v3/de8e3f22143c4d279ccf1386ca65c7c1')), Web3(Web3.HTTPProvider('https://mainnet.infura.io/v3/e97df39fcc97483781bcc0661ef88828')), Web3(Web3.HTTPProvider('https://mainnet.infura.io/v3/52b02833766849cb8095c695ba3ea9e3'))]\n",
    "\n",
    "for w3 in w3_group: print(w3.is_connected())"
   ]
  },
  {
   "cell_type": "code",
   "execution_count": null,
   "metadata": {},
   "outputs": [],
   "source": [
    "length_of_block_range = 100\n",
    "block_list = []\n",
    "\n",
    "for i in range(length_of_block_range):\n",
    "    # block_num = random.randint(18650000, 18768100)\n",
    "    block_num = random.randint(9800000, 9900000)\n",
    "    w3 = w3_group[random.randint(0, len(w3_group) - 1)]\n",
    "    block_list.append((block_num))\n",
    "\n",
    "\n",
    "new_block_list = sorted(block_list)\n",
    "print(new_block_list)\n",
    "\n",
    "with open(write_file, \"w\") as file:\n",
    "    writer = csv.writer(file)\n",
    "    # writer.writerow([\"Block Num\"])\n",
    "    for i in range(len(new_block_list)):\n",
    "        writer.writerow([new_block_list[i]])"
   ]
  },
  {
   "cell_type": "code",
   "execution_count": null,
   "metadata": {},
   "outputs": [],
   "source": []
  }
 ],
 "metadata": {
  "kernelspec": {
   "display_name": "Python 3",
   "language": "python",
   "name": "python3"
  },
  "language_info": {
   "codemirror_mode": {
    "name": "ipython",
    "version": 3
   },
   "file_extension": ".py",
   "mimetype": "text/x-python",
   "name": "python",
   "nbconvert_exporter": "python",
   "pygments_lexer": "ipython3",
   "version": "3.12.1"
  }
 },
 "nbformat": 4,
 "nbformat_minor": 2
}
